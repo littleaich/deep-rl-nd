{
 "cells": [
  {
   "cell_type": "markdown",
   "metadata": {},
   "source": [
    "# Continuous Control\n",
    "\n",
    "---\n",
    "\n",
    "In this notebook, you will learn how to use the Unity ML-Agents environment for the second project of the [Deep Reinforcement Learning Nanodegree](https://www.udacity.com/course/deep-reinforcement-learning-nanodegree--nd893) program.\n",
    "\n",
    "### 1. Start the Environment\n",
    "\n",
    "We begin by importing the necessary packages.  If the code cell below returns an error, please revisit the project instructions to double-check that you have installed [Unity ML-Agents](https://github.com/Unity-Technologies/ml-agents/blob/master/docs/Installation.md) and [NumPy](http://www.numpy.org/)."
   ]
  },
  {
   "cell_type": "code",
   "execution_count": 1,
   "metadata": {},
   "outputs": [],
   "source": [
    "from unityagents import UnityEnvironment\n",
    "import numpy as np"
   ]
  },
  {
   "cell_type": "markdown",
   "metadata": {},
   "source": [
    "Next, we will start the environment!  **_Before running the code cell below_**, change the `file_name` parameter to match the location of the Unity environment that you downloaded.\n",
    "\n",
    "- **Mac**: `\"path/to/Reacher.app\"`\n",
    "- **Windows** (x86): `\"path/to/Reacher_Windows_x86/Reacher.exe\"`\n",
    "- **Windows** (x86_64): `\"path/to/Reacher_Windows_x86_64/Reacher.exe\"`\n",
    "- **Linux** (x86): `\"path/to/Reacher_Linux/Reacher.x86\"`\n",
    "- **Linux** (x86_64): `\"path/to/Reacher_Linux/Reacher.x86_64\"`\n",
    "- **Linux** (x86, headless): `\"path/to/Reacher_Linux_NoVis/Reacher.x86\"`\n",
    "- **Linux** (x86_64, headless): `\"path/to/Reacher_Linux_NoVis/Reacher.x86_64\"`\n",
    "\n",
    "For instance, if you are using a Mac, then you downloaded `Reacher.app`.  If this file is in the same folder as the notebook, then the line below should appear as follows:\n",
    "```\n",
    "env = UnityEnvironment(file_name=\"Reacher.app\")\n",
    "```"
   ]
  },
  {
   "cell_type": "code",
   "execution_count": 2,
   "metadata": {
    "scrolled": true
   },
   "outputs": [
    {
     "name": "stderr",
     "output_type": "stream",
     "text": [
      "INFO:unityagents:\n",
      "'Academy' started successfully!\n",
      "Unity Academy name: Academy\n",
      "        Number of Brains: 1\n",
      "        Number of External Brains : 1\n",
      "        Lesson number : 0\n",
      "        Reset Parameters :\n",
      "\t\tgoal_speed -> 1.0\n",
      "\t\tgoal_size -> 5.0\n",
      "Unity brain name: ReacherBrain\n",
      "        Number of Visual Observations (per agent): 0\n",
      "        Vector Observation space type: continuous\n",
      "        Vector Observation space size (per agent): 33\n",
      "        Number of stacked Vector Observation: 1\n",
      "        Vector Action space type: continuous\n",
      "        Vector Action space size (per agent): 4\n",
      "        Vector Action descriptions: , , , \n"
     ]
    }
   ],
   "source": [
    "env = UnityEnvironment(file_name='./Reacher_Linux/Reacher.x86_64')"
   ]
  },
  {
   "cell_type": "markdown",
   "metadata": {},
   "source": [
    "Environments contain **_brains_** which are responsible for deciding the actions of their associated agents. Here we check for the first brain available, and set it as the default brain we will be controlling from Python."
   ]
  },
  {
   "cell_type": "code",
   "execution_count": 3,
   "metadata": {
    "scrolled": true
   },
   "outputs": [
    {
     "name": "stdout",
     "output_type": "stream",
     "text": [
      "['ReacherBrain']\n"
     ]
    }
   ],
   "source": [
    "print(env.brain_names)"
   ]
  },
  {
   "cell_type": "code",
   "execution_count": 4,
   "metadata": {},
   "outputs": [],
   "source": [
    "# get the default brain\n",
    "brain_name = env.brain_names[0]\n",
    "brain = env.brains[brain_name]"
   ]
  },
  {
   "cell_type": "code",
   "execution_count": 5,
   "metadata": {},
   "outputs": [
    {
     "name": "stdout",
     "output_type": "stream",
     "text": [
      "Unity brain name: ReacherBrain\n",
      "        Number of Visual Observations (per agent): 0\n",
      "        Vector Observation space type: continuous\n",
      "        Vector Observation space size (per agent): 33\n",
      "        Number of stacked Vector Observation: 1\n",
      "        Vector Action space type: continuous\n",
      "        Vector Action space size (per agent): 4\n",
      "        Vector Action descriptions: , , , \n",
      "<class 'unityagents.brain.BrainParameters'>\n"
     ]
    }
   ],
   "source": [
    "print(brain)\n",
    "print(type(brain))"
   ]
  },
  {
   "cell_type": "markdown",
   "metadata": {},
   "source": [
    "### 2. Examine the State and Action Spaces\n",
    "\n",
    "In this environment, a double-jointed arm can move to target locations. A reward of `+0.1` is provided for each step that the agent's hand is in the goal location. Thus, the goal of your agent is to maintain its position at the target location for as many time steps as possible.\n",
    "\n",
    "The observation space consists of `33` variables corresponding to position, rotation, velocity, and angular velocities of the arm.  Each action is a vector with four numbers, corresponding to torque applicable to two joints.  Every entry in the action vector must be a number between `-1` and `1`.\n",
    "\n",
    "Run the code cell below to print some information about the environment."
   ]
  },
  {
   "cell_type": "code",
   "execution_count": 6,
   "metadata": {},
   "outputs": [
    {
     "name": "stdout",
     "output_type": "stream",
     "text": [
      "Number of agents: 20\n",
      "Size of each action: 4\n",
      "There are 20 agents. Each observes a state with length: 33\n",
      "The state for the first agent looks like: [ 0.00000000e+00 -4.00000000e+00  0.00000000e+00  1.00000000e+00\n",
      " -0.00000000e+00 -0.00000000e+00 -4.37113883e-08  0.00000000e+00\n",
      "  0.00000000e+00  0.00000000e+00  0.00000000e+00  0.00000000e+00\n",
      "  0.00000000e+00  0.00000000e+00 -1.00000000e+01  0.00000000e+00\n",
      "  1.00000000e+00 -0.00000000e+00 -0.00000000e+00 -4.37113883e-08\n",
      "  0.00000000e+00  0.00000000e+00  0.00000000e+00  0.00000000e+00\n",
      "  0.00000000e+00  0.00000000e+00  5.75471878e+00 -1.00000000e+00\n",
      "  5.55726624e+00  0.00000000e+00  1.00000000e+00  0.00000000e+00\n",
      " -1.68164849e-01]\n",
      "The shape of the state matrix = 20x33\n"
     ]
    }
   ],
   "source": [
    "# reset the environment\n",
    "env_info = env.reset(train_mode=True)[brain_name]\n",
    "\n",
    "# number of agents\n",
    "num_agents = len(env_info.agents)\n",
    "print('Number of agents:', num_agents)\n",
    "\n",
    "# size of each action\n",
    "action_size = brain.vector_action_space_size\n",
    "print('Size of each action:', action_size)\n",
    "\n",
    "# examine the state space \n",
    "states = env_info.vector_observations\n",
    "state_size = states.shape[1]\n",
    "print('There are {} agents. Each observes a state with length: {}'.format(states.shape[0], state_size))\n",
    "print('The state for the first agent looks like:', states[0])\n",
    "print('The shape of the state matrix = {}x{}'.format(*states.shape))"
   ]
  },
  {
   "cell_type": "code",
   "execution_count": 7,
   "metadata": {},
   "outputs": [
    {
     "name": "stdout",
     "output_type": "stream",
     "text": [
      "Brain name:  ReacherBrain\n",
      "Camera resolutions:  []\n",
      "#Stacked vector observations:  1\n",
      "#Visual observations:  0\n",
      "Vector action descriptions:  ['', '', '', '']\n",
      "Vector action space size:  4\n",
      "Vector action space type:  continuous\n",
      "Vector observation space size:  33\n",
      "Vector observation space type:  continuous\n"
     ]
    }
   ],
   "source": [
    "def print_brain_stats(brain) :\n",
    "    print(\"Brain name: \", brain.brain_name)\n",
    "    print(\"Camera resolutions: \", brain.camera_resolutions)\n",
    "    print(\"#Stacked vector observations: \", brain.num_stacked_vector_observations)\n",
    "    print(\"#Visual observations: \", brain.number_visual_observations)\n",
    "    print(\"Vector action descriptions: \", brain.vector_action_descriptions)\n",
    "    print(\"Vector action space size: \", brain.vector_action_space_size)\n",
    "    print(\"Vector action space type: \", brain.vector_action_space_type)\n",
    "    print(\"Vector observation space size: \", brain.vector_observation_space_size)\n",
    "    print(\"Vector observation space type: \", brain.vector_observation_space_type)\n",
    "    \n",
    "# test \n",
    "print_brain_stats(brain);"
   ]
  },
  {
   "cell_type": "markdown",
   "metadata": {},
   "source": [
    "### 3. Train the Agents"
   ]
  },
  {
   "cell_type": "code",
   "execution_count": 8,
   "metadata": {},
   "outputs": [],
   "source": [
    "# define agent\n",
    "from ddpg_agent import Agent\n",
    "\n",
    "state_size = brain.vector_observation_space_size;\n",
    "action_size = brain.vector_action_space_size;\n",
    "agent = Agent(state_size=state_size, action_size=action_size, random_seed=72);"
   ]
  },
  {
   "cell_type": "code",
   "execution_count": 9,
   "metadata": {},
   "outputs": [
    {
     "name": "stdout",
     "output_type": "stream",
     "text": [
      "1 2 3 4 5 6 7 8 9 10 \n",
      "Episode 10\tAverage Score: 2.56\n",
      "11 12 13 14 15 16 17 18 19 20 \n",
      "Episode 20\tAverage Score: 9.05\n",
      "21 22 23 24 25 26 27 28 29 30 \n",
      "Episode 30\tAverage Score: 17.77\n",
      "31 32 33 34 35 36 37 38 39 40 \n",
      "Episode 40\tAverage Score: 22.28\n",
      "41 42 43 44 45 46 47 48 49 50 \n",
      "Episode 50\tAverage Score: 25.00\n",
      "51 52 53 54 55 56 57 58 59 60 \n",
      "Episode 60\tAverage Score: 26.90\n",
      "61 62 63 64 65 66 67 68 69 70 \n",
      "Episode 70\tAverage Score: 28.26\n",
      "71 72 73 74 75 76 77 78 79 80 \n",
      "Episode 80\tAverage Score: 29.26\n",
      "81 82 83 84 85 86 87 88 89 90 \n",
      "Episode 90\tAverage Score: 30.06\n",
      "91 92 93 94 95 96 97 98 99 100 \n",
      "Episode 100\tAverage Score: 30.68\n",
      "101 102 103 104 105 106 107 108 109 110 \n",
      "Episode 110\tAverage Score: 34.09\n",
      "111 112 113 114 115 116 117 118 119 120 \n",
      "Episode 120\tAverage Score: 36.15\n",
      "121 122 123 124 125 126 127 128 129 130 \n",
      "Episode 130\tAverage Score: 36.28\n",
      "131 132 133 134 135 136 137 138 139 140 \n",
      "Episode 140\tAverage Score: 36.35\n",
      "141 142 143 144 145 146 147 148 149 150 \n",
      "Episode 150\tAverage Score: 36.41\n",
      "151 152 153 154 155 156 157 158 159 160 \n",
      "Episode 160\tAverage Score: 36.42\n",
      "161 162 163 164 165 166 167 168 169 170 \n",
      "Episode 170\tAverage Score: 36.41\n",
      "171 172 173 174 175 176 177 178 179 180 \n",
      "Episode 180\tAverage Score: 36.42\n",
      "181 182 183 184 185 186 187 188 189 190 \n",
      "Episode 190\tAverage Score: 36.41\n",
      "191 192 193 194 195 196 197 198 199 200 \n",
      "Episode 200\tAverage Score: 36.42\n",
      "201 202 203 204 205 206 207 208 209 210 \n",
      "Episode 210\tAverage Score: 36.40\n",
      "211 212 213 214 215 216 217 218 219 220 \n",
      "Episode 220\tAverage Score: 36.43\n",
      "221 222 223 224 225 226 227 228 229 230 \n",
      "Episode 230\tAverage Score: 36.37\n",
      "231 232 233 234 235 236 237 238 239 240 \n",
      "Episode 240\tAverage Score: 36.38\n",
      "241 242 243 244 245 246 247 248 249 250 \n",
      "Episode 250\tAverage Score: 36.38\n",
      "251 252 253 254 255 256 257 258 259 260 \n",
      "Episode 260\tAverage Score: 36.35\n",
      "261 262 263 264 265 266 267 268 269 270 \n",
      "Episode 270\tAverage Score: 36.33\n",
      "271 272 273 274 275 276 277 278 279 280 \n",
      "Episode 280\tAverage Score: 36.36\n",
      "281 282 283 284 285 286 287 288 289 290 \n",
      "Episode 290\tAverage Score: 36.38\n",
      "291 292 293 294 295 296 297 298 299 300 Termination of training -- requirements satisfied.\n"
     ]
    },
    {
     "data": {
      "image/png": "[encoded data removed]",
      "text/plain": [
       "<Figure size 432x288 with 1 Axes>"
      ]
     },
     "metadata": {
      "needs_background": "light"
     },
     "output_type": "display_data"
    }
   ],
   "source": [
    "import torch\n",
    "from collections import deque\n",
    "import matplotlib.pyplot as plt\n",
    "%matplotlib inline\n",
    "\n",
    "def ddpg(n_episodes=3000, max_t=1000, print_every=10, avg_episode=100):\n",
    "    scores_deque = deque(maxlen=avg_episode)\n",
    "    scores_mean = []\n",
    "    count_satisfaction = 0;\n",
    "    for i_episode in range(1, n_episodes+1):\n",
    "        scores = np.zeros(num_agents)\n",
    "        env_info = env.reset(train_mode=True)[brain_name] \n",
    "        states = env_info.vector_observations \n",
    "        agent.reset()\n",
    "        for t in range(max_t):\n",
    "            actions = agent.act(states)\n",
    "            env_info = env.step(actions)[brain_name]           # send all actions to tne environment\n",
    "            next_states = env_info.vector_observations         # get next state (for each agent)\n",
    "            rewards = env_info.rewards                         # get reward (for each agent)\n",
    "            dones = env_info.local_done                        # see if episode finished\n",
    "            agent.step(states, actions, rewards, next_states, dones)\n",
    "            states = next_states\n",
    "            scores += rewards \n",
    "            if np.any(dones):                                  # exit loop if episode finished\n",
    "                break\n",
    "        print(i_episode, end=\" \")\n",
    "        scores_deque.append(np.mean(scores))\n",
    "        scores_mean.append(np.mean(scores))\n",
    "        if i_episode % avg_episode == 0 : # because not necessary to save models always\n",
    "            torch.save(agent.actor_local.state_dict(), 'checkpoint_actor_local.pth')\n",
    "            torch.save(agent.critic_local.state_dict(), 'checkpoint_critic_local.pth')\n",
    "            torch.save(agent.actor_target.state_dict(), 'checkpoint_actor_target.pth')\n",
    "            torch.save(agent.critic_target.state_dict(), 'checkpoint_critic_target.pth')        \n",
    "            # check if the score satisfies the threshold and the agents are trained long enough\n",
    "            if (np.mean(scores_deque)>=30) :\n",
    "                count_satisfaction += 1;\n",
    "                if count_satisfaction == 3 :\n",
    "                    print(\"Termination of training -- requirements satisfied.\")\n",
    "                    break;\n",
    "            \n",
    "        if i_episode % print_every == 0:\n",
    "            print(\"\");\n",
    "            print('\\rEpisode {}\\tAverage Score: {:.2f}'.format(i_episode, np.mean(scores_deque)))\n",
    "\n",
    "            \n",
    "    return scores_mean;\n",
    "\n",
    "scores = ddpg()\n",
    "\n",
    "fig = plt.figure()\n",
    "ax = fig.add_subplot(111)\n",
    "plt.plot(np.arange(1, len(scores)+1), scores)\n",
    "plt.ylabel('Score (Averaged over agents)')\n",
    "plt.xlabel('Episode #')\n",
    "plt.show()"
   ]
  },
  {
   "cell_type": "markdown",
   "metadata": {},
   "source": [
    "### 4. Test the Agents"
   ]
  },
  {
   "cell_type": "code",
   "execution_count": 10,
   "metadata": {},
   "outputs": [],
   "source": [
    "import torch\n",
    "agent.actor_local.load_state_dict(torch.load('checkpoint_actor_local.pth'));\n",
    "agent.critic_local.load_state_dict(torch.load('checkpoint_critic_local.pth'));"
   ]
  },
  {
   "cell_type": "code",
   "execution_count": 12,
   "metadata": {},
   "outputs": [
    {
     "name": "stdout",
     "output_type": "stream",
     "text": [
      "Total score (averaged over agents) this episode: 33.771999245136975\n"
     ]
    }
   ],
   "source": [
    "env_info = env.reset(train_mode=False)[brain_name]     # reset the environment    \n",
    "states = env_info.vector_observations                  # get the current state (for each agent)\n",
    "scores = np.zeros(num_agents)                          # initialize the score (for each agent)\n",
    "agent.reset()\n",
    "while True:\n",
    "    actions = agent.act(states)\n",
    "    env_info = env.step(actions)[brain_name]           # send all actions to tne environment\n",
    "    next_states = env_info.vector_observations         # get next state (for each agent)\n",
    "    rewards = env_info.rewards                         # get reward (for each agent)\n",
    "    dones = env_info.local_done                        # see if episode finished\n",
    "    states = next_states\n",
    "    scores += rewards \n",
    "    if np.any(dones):                                  # exit loop if episode finished\n",
    "        break        \n",
    "print('Total score (averaged over agents) this episode: {}'.format(np.mean(scores)))"
   ]
  },
  {
   "cell_type": "markdown",
   "metadata": {},
   "source": [
    "#### When finished, you can close the environment."
   ]
  },
  {
   "cell_type": "code",
   "execution_count": 13,
   "metadata": {},
   "outputs": [],
   "source": [
    "env.close()"
   ]
  },
  {
   "cell_type": "code",
   "execution_count": null,
   "metadata": {},
   "outputs": [],
   "source": []
  }
 ],
 "metadata": {
  "kernelspec": {
   "display_name": "drlnd",
   "language": "python",
   "name": "drlnd"
  },
  "language_info": {
   "codemirror_mode": {
    "name": "ipython",
    "version": 3
   },
   "file_extension": ".py",
   "mimetype": "text/x-python",
   "name": "python",
   "nbconvert_exporter": "python",
   "pygments_lexer": "ipython3",
   "version": "3.6.7"
  }
 },
 "nbformat": 4,
 "nbformat_minor": 2
}
